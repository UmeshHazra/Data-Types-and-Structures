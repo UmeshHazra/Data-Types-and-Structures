{
  "nbformat": 4,
  "nbformat_minor": 0,
  "metadata": {
    "colab": {
      "provenance": []
    },
    "kernelspec": {
      "name": "python3",
      "display_name": "Python 3"
    },
    "language_info": {
      "name": "python"
    }
  },
  "cells": [
    {
      "cell_type": "markdown",
      "source": [
        "**1. What are data structures, and why are they important?**\n",
        "\n",
        "ANS:- Data structures are organized ways of storing and managing data to enable efficient access, modification, and processing.\n",
        "\n",
        "They are crucial because they help optimize the use of memory, improve the performance of algorithms, and make it easier to perform operations like searching, inserting, and deleting data."
      ],
      "metadata": {
        "id": "x4jLmo-caIiH"
      }
    },
    {
      "cell_type": "markdown",
      "source": [
        "**2. Difference between mutable and immutable data types with examples**\n",
        "\n",
        "ANS:- **Mutable Data Types:** These can be modified after they are created. Examples include lists, sets, and dictionaries.\n",
        "\n",
        "my_list[0] = 10.\n",
        "\n",
        "**Immutable Data Types:** These cannot be modified after creation. Examples include strings, tuples, and integers. For example, We can't change a character in a string.\n",
        "\n",
        "my_string[0] = 'H' it will get an error."
      ],
      "metadata": {
        "id": "YMRXO1Kbai0G"
      }
    },
    {
      "cell_type": "markdown",
      "source": [
        "**3. Main differences between lists and tuples in Python**\n",
        "\n",
        "ANS:- **Mutability:** Lists are mutable, meaning their contents can be changed after creation. Tuples are immutable, meaning once created, their contents cannot be modified.\n",
        "\n",
        "**Syntax:** Lists are defined using square brackets [], while tuples are defined using parentheses ().\n",
        "\n",
        "**Performance:** Tuples are slightly faster than lists because they are immutable and have a smaller memory footprint."
      ],
      "metadata": {
        "id": "zKIEUBYWbT03"
      }
    },
    {
      "cell_type": "markdown",
      "source": [
        "**4. How dictionaries store data**\n",
        "\n",
        "ANS:- Dictionaries in Python store data in key-value pairs.\n",
        "\n",
        "Example: my_dict = {'name': 'Alice', 'age': 25}\n"
      ],
      "metadata": {
        "id": "Dcbo-gxScO5H"
      }
    },
    {
      "cell_type": "markdown",
      "source": [
        "**5. Why might you use a set instead of a list in Python**\n",
        "\n",
        "ANS:- A set is an unordered collection of unique elements. It is useful when you need to store items without duplicates and perform operations like membership tests, unions, intersections, and differences efficiently."
      ],
      "metadata": {
        "id": "nQcr10FRcp9P"
      }
    },
    {
      "cell_type": "markdown",
      "source": [
        "**6. What is a string in Python, and how is it different from a list?**\n",
        "\n",
        "ANS:- A string is a sequence of characters enclosed in single, double, or triple quotes. It is immutable, meaning its contents cannot be changed."
      ],
      "metadata": {
        "id": "G2f7vVFTc_qf"
      }
    },
    {
      "cell_type": "markdown",
      "source": [
        "**7. How do tuples ensure data integrity in Python?**\n",
        "\n",
        "Ans:- Since tuples are immutable, once they are created, their contents cannot be modified, ensuring data integrity. This makes tuples ideal for storing fixed collections of values that shouldn't be altered, like coordinates or constant data."
      ],
      "metadata": {
        "id": "z7UbbxRMdOdQ"
      }
    },
    {
      "cell_type": "markdown",
      "source": [
        "**8. What is a hash table, and how does it relate to dictionaries in Python?**\n",
        "\n",
        "ANS:- A hash table is a data structure that maps keys to values using a hash function to compute an index in an array where the value can be found."
      ],
      "metadata": {
        "id": "KpixlJfpdWUQ"
      }
    },
    {
      "cell_type": "markdown",
      "source": [
        "**9. Can lists contain different data types in Python?**\n",
        "\n",
        "ANS:- Yes, lists can contain elements of different data types, including integers, strings, floats, other lists, etc. For example:my_list = [1, \"hello\", 3.14, [1, 2, 3]]\n"
      ],
      "metadata": {
        "id": "0-BWE7Qzdi__"
      }
    },
    {
      "cell_type": "markdown",
      "source": [
        "**10. Explain why strings are immutable in Python**\n",
        "\n",
        "ANS:- Strings are immutable in Python to ensure efficiency and reliability. Since strings are used extensively, making them immutable allows Python to reuse the same string objects in memory, reducing overhead. It also prevents accidental modification of string data, which could lead to unexpected bugs."
      ],
      "metadata": {
        "id": "C1c9wCW9dzA4"
      }
    },
    {
      "cell_type": "markdown",
      "source": [
        "**11. What advantages do dictionaries offer over lists for certain tasks?**\n",
        "\n",
        "ANS:- Dictionaries offer fast lookups by key, which is faster than searching for a value in a list."
      ],
      "metadata": {
        "id": "cq0PMbUbeA1w"
      }
    },
    {
      "cell_type": "markdown",
      "source": [
        "**12. How do sets handle duplicate values in Python?**\n",
        "\n",
        "ANS:- Sets automatically remove duplicate values. If you try to add a duplicate element to a set, it will not be included in the set. For example:my_set = {1, 2, 3, 3},my_set will be {1, 2, 3}.\n"
      ],
      "metadata": {
        "id": "iC1sZzzLeONo"
      }
    },
    {
      "cell_type": "markdown",
      "source": [
        "**13. Describe a scenario where using a tuple would be preferable over a list**\n",
        "\n",
        "ANS:- A tuple would be preferable when you need to store a collection of items that should not change, like coordinates, fixed configuration values, or records that should remain constant throughout the program"
      ],
      "metadata": {
        "id": "s3GAAcILelyR"
      }
    },
    {
      "cell_type": "markdown",
      "source": [
        "**14. How does the “in” keyword work differently for lists and dictionaries?**\n",
        "\n",
        "ANS:- For lists, the in keyword checks for the presence of a value in the list. It searches through all elements.\n",
        "\n",
        "For dictionaries, the in keyword checks for the presence of a key in the dictionary, not a value.\n",
        "\n",
        "Example:-\n",
        "\n",
        "my_list = [1, 2, 3]\n",
        "\n",
        "1 in my_list  # Returns True\n",
        "\n",
        "my_dict = {'a': 10, 'b': 20}\n",
        "\n",
        "'a' in my_dict  # Returns True\n"
      ],
      "metadata": {
        "id": "mPavzlv1esD4"
      }
    },
    {
      "cell_type": "markdown",
      "source": [
        "**15. Can you modify the elements of a tuple? Explain why or why not**\n",
        "\n",
        "ANS:- No, We cannot modify the elements of a tuple because tuples are immutable. This means that once a tuple is created, we cannot change, add, or remove its elements."
      ],
      "metadata": {
        "id": "yP9duRu3fLfR"
      }
    },
    {
      "cell_type": "markdown",
      "source": [
        "**No, you cannot modify the elements of a tuple because tuples are immutable. This means that once a tuple is created, you cannot change, add, or remove its elements.**\n",
        "\n",
        "ANS:- A nested dictionary is a dictionary where the value associated with a key is another dictionary.\n",
        "\n",
        "EXAMPLE:-\n",
        "\n",
        "employee = {\n",
        "    'name': 'Umesh',\n",
        "    'position': 'Student',\n",
        "    'contact': {'email': 'umesh@gmail.com', 'phone': '0123456789'}\n",
        "}\n"
      ],
      "metadata": {
        "id": "zPG0BZgcfWRw"
      }
    },
    {
      "cell_type": "markdown",
      "source": [
        "**17. Describe the time complexity of accessing elements in a dictionary**\n",
        "\n",
        "ANS:- The time complexity for accessing elements in a dictionary is O(1) on average."
      ],
      "metadata": {
        "id": "V5IxBxRpfuYR"
      }
    },
    {
      "cell_type": "markdown",
      "source": [
        "**18. In what situations are lists preferred over dictionaries?**\n",
        "\n",
        "ANS:- Lists are preferred when we need an ordered collection of elements and don’t require efficient key-based lookups."
      ],
      "metadata": {
        "id": "mno2O1Gefz4R"
      }
    },
    {
      "cell_type": "markdown",
      "source": [
        "**19. Why are dictionaries considered unordered, and how does that affect data retrieval?**\n",
        "\n",
        "ANS:- Dictionaries in Python are considered unordered because, in earlier versions of Python (before 3.7), there was no guarantee of the order of key-value pairs."
      ],
      "metadata": {
        "id": "CCvutRehgRkS"
      }
    },
    {
      "cell_type": "markdown",
      "source": [
        "**20. Explain the difference between a list and a dictionary in terms of data retrieval.**\n",
        "\n",
        "ANS:- **List:** Data is accessed by index (position in the list).\n",
        "\n",
        "**Dictionary:** Data is accessed by key, and the key-value pair relationship enables efficient lookups."
      ],
      "metadata": {
        "id": "Kvu_HDOpggma"
      }
    }
  ]
}